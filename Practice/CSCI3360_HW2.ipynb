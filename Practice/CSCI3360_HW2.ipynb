{
 "cells": [
  {
   "cell_type": "markdown",
   "metadata": {},
   "source": [
    "# HW 2: Web Scraping\n",
    "\n",
    "In this assignment, you will write python programs to scrape data from web pages. As we have seen in class, there are python packages that can help you achieve the goal:\n",
    "\n",
    "- [`requests`](http://docs.python-requests.org/en/master/api/)\n",
    "- [`urllib` ](https://docs.python.org/3/library/urllib.html)\n",
    "- [`BeatifulSoup`](https://www.crummy.com/software/BeautifulSoup/bs4/doc/)\n",
    "\n",
    "## Submission instruction\n",
    "- Due by 11:59pm on **Sep. 16th, 2019**\n",
    "- Complete this notebook and name it as \"*CSCI3360\\_HW2\\_{your first name}.ipynb*\".\n",
    "- Do **not** use any other 3rd party libraries unless you are asked to do so.\n",
    "- Do **not** _hardcode_ any data.\n",
    "- Feel free to modify function prototype (i.e., you can add additional input parameters or remove existing ones based on your needs)\n",
    "- Feel free to define your own functions if needed.\n",
    "\n",
    "Let's start by importing the required libraries."
   ]
  },
  {
   "cell_type": "code",
   "execution_count": 2,
   "metadata": {},
   "outputs": [],
   "source": [
    "%matplotlib inline\n",
    "\n",
    "from urllib.request import urlopen\n",
    "import requests\n",
    "from bs4 import BeautifulSoup\n",
    "import pandas as pd\n",
    "from datetime import datetime\n",
    "import numpy as np\n",
    "from datetime import timedelta\n",
    "from time import strptime"
   ]
  },
  {
   "cell_type": "markdown",
   "metadata": {},
   "source": [
    "## August Temperature in Watkinsville, GA\n",
    "\n",
    "As a warm-up, let's write a python program that extracts daily temperature data for August from a website. Your instructor says that\n",
    "\n",
    "> \"This summer seems to be **much hotter** than usual\".\n",
    "\n",
    "In order to make this claim, we will need to find and analyze some data that supports our claim. \n",
    "\n",
    "The _College of Argricultural & Environmental Science_ at UGA maintains a website that reports daily\n",
    "\n",
    "- min temperature (${}^\\circ$F),\n",
    "- max temperature (${}^\\circ$F), and\n",
    "- precipitation (in).\n",
    "\n",
    "See the picture below:\n",
    "\n",
    "<img src=\"http://cobweb.cs.uga.edu/~jwlee/teaching/csci3360/images/uga_weather.png\" />\n",
    "\n",
    "To visually check this website, open a web browser and enter the following URL (or just click it):\n",
    "\n",
    "[http://www.georgiaweather.net/index.php?variable=HI&site=WATUGA](http://www.georgiaweather.net/index.php?variable=HI&site=WATUGA).\n",
    "\n",
    "Carefully look at the url. You can see there's a question mark appended at the end of url for an web page, http://georgiaweather.net/index.php, followed by a set of **key/value pairs** separated by the ampersand (\"&\") symbol. This is called a <font color='red'>**query string**</font>. A query string is the portion of a URL that contains the data your web browser sends to a web application in the form of HTTP **GET** request. Try selecting a different weather station using the dropdown list in the 'Weather Stations' pane on the left hand side of the page. As soon as you choose a different station, you will see the page is reloaded with a new url where `site` variable contains the abbreviated name of the station you chose. For example, in the above picture, the last key/value pair \"site=WATUGA\" has been added to select a weather station in Watkinsville, GA, among many stations they have across Georgia.\n",
    "\n",
    "- The start of query string is indicated with the question mark (?).\n",
    "- The query string contains a (set of) key/value pair.\n",
    "- The key/value pair has the form of `{parameter name}={parameter value}`.\n",
    "- Each key/value pair is separated by an ampersand (&) symbol.\n",
    "\n",
    "Unlike HTTP [GET](https://en.wikipedia.org/wiki/Hypertext_Transfer_Protocol#Request_methods) method (which uses the url to send information to the server), the [POST](https://en.wikipedia.org/wiki/POST_(HTTP)) method embeds the information inside the HTTP request body.\n",
    "\n",
    "In this part, we will compare the August temperatures in Watkinsville, GA, for 2019 with those for 2018. For your information, the site allows you to query the temperature data for maximum one year.\n",
    "\n",
    "### Q1. Write a function that extracts daily min/max temperatures for the given period and station (30 pts).\n",
    "- Before writing a code, visit this [page](http://www.georgiaweather.net/index.php?variable=HI&site=WATUSDA) and review the lecture slides on how to make GET and POST [requests](https://2.python-requests.org/en/master/user/quickstart/#make-a-request) in python.\n",
    "- You will see that the information we need can be obtained by setting the From and To dates to Aug. 1, 2018 and Aug. 30, 2019 from the dropdown lists, respectively.\n",
    "- We will programatically choose the From and To dates by sending using HTTP GET and POST methods.\n",
    "- To see what type/format of values are accepted, you will need to see the html source code of page.\n",
    "- To get the historical temperature data for a station, you need to pass two variables, `HI` and `site`, to the server using the URL.\n",
    "- You will see that the query result is returned in the form of HTML tables.\n"
   ]
  },
  {
   "cell_type": "code",
   "execution_count": 108,
   "metadata": {},
   "outputs": [
    {
     "name": "stdout",
     "output_type": "stream",
     "text": [
      "mydata contains 396 rows and 4 columns.\n",
      "\n",
      "\n",
      "<class 'pandas.core.frame.DataFrame'>\n",
      "RangeIndex: 396 entries, 0 to 395\n",
      "Data columns (total 4 columns):\n",
      "Date        396 non-null datetime64[ns]\n",
      "Max_Temp    396 non-null float64\n",
      "Min_temp    396 non-null float64\n",
      "Rain        396 non-null float64\n",
      "dtypes: datetime64[ns](1), float64(3)\n",
      "memory usage: 12.5 KB\n",
      "None\n",
      "          Date  Max_Temp  Min_temp  Rain\n",
      "0   2018-08-01      78.9      69.2  1.33\n",
      "1   2018-08-02      73.6      69.9  0.86\n",
      "2   2018-08-03      85.7      70.3  0.81\n",
      "3   2018-08-04      88.6      69.1  0.00\n",
      "4   2018-08-05      91.6      70.7  0.33\n",
      "5   2018-08-06      92.6      70.5  0.00\n",
      "6   2018-08-07      90.6      71.6  0.00\n",
      "7   2018-08-08      89.7      70.2  0.00\n",
      "8   2018-08-09      89.1      69.5  0.26\n",
      "9   2018-08-10      87.4      69.1  0.01\n",
      "10  2018-08-11      86.4      71.6  0.00\n",
      "11  2018-08-12      89.4      67.6  0.00\n",
      "12  2018-08-13      87.5      66.1  0.00\n",
      "13  2018-08-14      88.1      63.8  0.00\n",
      "14  2018-08-15      89.6      65.1  0.00\n",
      "15  2018-08-16      91.8      67.8  0.00\n",
      "16  2018-08-17      87.2      69.9  0.09\n",
      "17  2018-08-18      86.6      71.0  0.48\n",
      "18  2018-08-19      84.3      71.4  0.00\n",
      "19  2018-08-20      83.9      70.3  0.00\n",
      "20  2018-08-21      86.7      71.0  0.02\n",
      "21  2018-08-22      85.0      68.3  0.00\n",
      "22  2018-08-23      83.9      64.1  0.00\n",
      "23  2018-08-24      81.5      62.2  0.00\n",
      "24  2018-08-25      85.4      60.9  0.00\n",
      "25  2018-08-26      89.1      65.5  0.00\n",
      "26  2018-08-27      91.8      67.0  0.00\n",
      "27  2018-08-28      92.8      68.3  0.00\n",
      "28  2018-08-29      92.3      69.9  0.00\n",
      "29  2018-08-30      91.2      67.6  0.00\n",
      "..         ...       ...       ...   ...\n",
      "366 2019-08-02      87.7      67.6  0.00\n",
      "367 2019-08-03      88.6      68.8  0.04\n",
      "368 2019-08-04      83.2      69.2  1.18\n",
      "369 2019-08-05      87.3      67.9  0.27\n",
      "370 2019-08-06      88.8      67.2  0.00\n",
      "371 2019-08-07      90.8      69.6  0.00\n",
      "372 2019-08-08      90.4      70.0  0.00\n",
      "373 2019-08-09      94.2      69.9  0.00\n",
      "374 2019-08-10      89.7      71.3  0.10\n",
      "375 2019-08-11      90.9      71.9  0.00\n",
      "376 2019-08-12      91.9      72.8  0.00\n",
      "377 2019-08-13      97.0      72.2  0.04\n",
      "378 2019-08-14      93.6      71.4  0.12\n",
      "379 2019-08-15      92.2      71.4  0.00\n",
      "380 2019-08-16      93.1      67.7  0.00\n",
      "381 2019-08-17      94.4      66.8  0.00\n",
      "382 2019-08-18      94.5      69.1  0.02\n",
      "383 2019-08-19      91.3      69.2  0.14\n",
      "384 2019-08-20      89.6      69.2  0.20\n",
      "385 2019-08-21      91.8      69.7  0.00\n",
      "386 2019-08-22      93.6      71.4  0.00\n",
      "387 2019-08-23      92.7      70.5  0.21\n",
      "388 2019-08-24      87.3      67.2  0.00\n",
      "389 2019-08-25      76.7      64.5  0.00\n",
      "390 2019-08-26      79.0      66.4  0.09\n",
      "391 2019-08-27      78.9      69.3  0.32\n",
      "392 2019-08-28      90.1      68.0  0.00\n",
      "393 2019-08-29      85.7      63.0  0.00\n",
      "394 2019-08-30      86.5      60.6  0.00\n",
      "395 2019-08-31      88.1      63.9  0.00\n",
      "\n",
      "[396 rows x 4 columns]\n"
     ]
    }
   ],
   "source": [
    "\n",
    "def get_temperature(fromMonth, fromDay, fromYear, toMonth, toDay, toYear, station):\n",
    "    \"\"\"\n",
    "    Parameters\n",
    "    ------------\n",
    "    fromMonth: string, month name (e.g., January, February, and so on)\n",
    "    fromDay: an integer between 1 and 31\n",
    "    fromYear: an integer between 1996 and 2019\n",
    "    toMonth: string, month name\n",
    "    toDay: an intesger between 1 and 31\n",
    "    toYear: an integer between 1996 and 2019\n",
    "    station: string, station name\n",
    "    \n",
    "    Return\n",
    "    ------------\n",
    "    df: DataFrame, each row contains 4 features: Date, MaxTemp, MinTemp, and Rain\n",
    "        - Date: datetime64\n",
    "        - MaxTemp: float64\n",
    "        - MinTemp: float64\n",
    "        - Rain: float64\n",
    "    \"\"\"\n",
    "    lno = 0\n",
    "    target_url = \"http://www.georgiaweather.net/index.php\"\n",
    "    query = {'variable':'HI','site': station}\n",
    "    data = {'fromMonth':fromMonth,'fromDay':fromDay,'fromYear':fromYear, 'toMonth':toMonth, 'toDay':toDay, 'toYear':toYear}\n",
    "    r = requests.get(\"http://www.georgiaweather.net/index.php\", params = query)\n",
    "    res =requests.post(r.url, data)\n",
    "    soup = BeautifulSoup(res.text, 'lxml')\n",
    "    d = timedelta(days = 1)\n",
    "    array = []\n",
    "    Max_temp = []\n",
    "    Min_temp = []\n",
    "    rain = []\n",
    "    date_list = []\n",
    "    date_str = ('{}/{}/{}'.format(fromMonth, fromDay, fromYear))\n",
    "    date1 = datetime.strptime(date_str, '%B/%d/%Y')    \n",
    "    all_table = soup.find_all('h5')\n",
    "    length = int(len(all_table) -5)\n",
    "    length_div = int(length / 4)\n",
    "    for i in range(length_div):\n",
    "        date_list.append(date1)\n",
    "        date1 = (date1 + d)\n",
    "        \n",
    "    for row in all_table:\n",
    "        if lno < 5:\n",
    "            lno +=1\n",
    "        else:\n",
    "            array.append(row.contents[0])\n",
    "    for i in range (1, length, 4):\n",
    "            Max_temp.append(array[i])\n",
    "    for i in range (2, length, 4):\n",
    "        Min_temp.append(array[i])\n",
    "    for i in range (3, length, 4):\n",
    "                rain.append(array[i])\n",
    "\n",
    "    data = {'Date': date_list,'Max_Temp': Max_temp,'Min_temp': Min_temp,'Rain': rain}\n",
    "    df = pd.DataFrame(data=data)\n",
    "    df['Max_Temp'] = df.Max_Temp.astype(float)\n",
    "    df['Min_temp'] = df.Min_temp.astype(float)\n",
    "    df['Rain'] = df.Rain.astype(float)\n",
    "\n",
    "    return df\n",
    "\n",
    "#---------------------------------------#\n",
    "#       test code (do not modify)       #\n",
    "#---------------------------------------#\n",
    "\"\"\"\n",
    "Note that your code will be tested with arbitrary From/To dates. Please \n",
    "make sure you try other (valid) input parameter values.\n",
    "For example, get_temperature('December', 1, 2018, 'January', 2, 2019, 'WATUGA') should work \n",
    "without any errors.\n",
    "\"\"\"\n",
    "# This should return a data frame containing all records for WATUGA site within the time window 08/01/2018 - 08/31/2019\n",
    "mydata = get_temperature('August', 1, 2018, 'August', 31, 2019, 'WATUGA')\n",
    "print('mydata contains {} rows and {} columns.\\n\\n'.format(*mydata.shape))\n",
    "print(mydata.info())\n",
    "print(mydata)"
   ]
  },
  {
   "cell_type": "markdown",
   "metadata": {},
   "source": [
    "### Hint 1: Identify the following lines from the page source code. \n",
    "\n",
    "```HTML\n",
    "<form name = \"test\" action = \"index.php?variable=HI&site=WATUGA\" method = \"POST\">\n",
    "\t<!--Beginning of From Month drop down menu -->\n",
    "\tFrom: \n",
    "\t\t\t<select name=\"fromMonth\"><option value = January>January</option><option value = February>February</option><option value = March>March</option><option value = April>April</option><option value = May>May</option><option value = June>June</option><option value = July>July</option><option value = August>August</option><option value = September>September</option><option value = October>October</option>\n",
    "```\n",
    "The `action` attribute of `form` tag specifies the url of the page to which the form data is submitted. From above, we can see that it is submitted to [http://www.georgiaweather.net/index.php?variable=HI&site=WATUGA](http://www.georgiaweather.net/index.php?variable=HI&site=WATUGA).\n",
    "To select the date, you need to send the following data to the server using an HTTP **POST** request.\n",
    "- `fromMonth`\n",
    "- `fromDay`\n",
    "- `fromYear`\n",
    "- `toMonth`\n",
    "- `toDay`\n",
    "- `toYear`\n",
    "\n",
    "Once you pass the above information, the server will return an HTML table showing the daily temperatures for the specified time period. You can parse the table using the `BeautifulSoup` package.\n",
    "\n",
    "### Hint 2: Datetime in python\n",
    "Python has a built-in module for handling basic date and time types. The `datetime` package provides various classes and useful functions for handling dates and times. To parse a date string into a `datetime` object, you can use `datetime.datetime.strptime()` function. See [here](https://docs.python.org/3/library/datetime.html#datetime.datetime.strptime) for detailed information. Suppose you would like to convert the string `\"2019/09/09\"` into a `datetime` object. You can do the following:"
   ]
  },
  {
   "cell_type": "code",
   "execution_count": 109,
   "metadata": {},
   "outputs": [
    {
     "name": "stdout",
     "output_type": "stream",
     "text": [
      "2019-09-09 00:00:00  \tdata type= <class 'datetime.datetime'>\n"
     ]
    }
   ],
   "source": [
    "my_date_obj = datetime.strptime(\"2019/09/09\", '%Y/%m/%d')\n",
    "print(my_date_obj, \" \\tdata type=\", type(my_date_obj))"
   ]
  },
  {
   "cell_type": "markdown",
   "metadata": {},
   "source": [
    "To understand what arguments you need to pass, see the table in this [page](https://docs.python.org/3.7/library/datetime.html#strftime-strptime-behavior). \n",
    "\n",
    "One problem we have is that our 'Date' field doesn't contain year information. For instance, Aug. 01, Aug. 02, and so on. However, we can figure out the year part since we know\n",
    "- the start date of the query result (recall that we have fromYear, fromMonth, fromDay),\n",
    "- the result is sorted by the 'Date' field, and\n",
    "- each row corresponds to a day.\n",
    "\n",
    "You can create a `datetime` object corresponding to the start date of query result and 1 day to the object whenever you insert a new record. To add dates or times to a `datetime` object, you can use `datetime.timedelta` object. For example,\n"
   ]
  },
  {
   "cell_type": "code",
   "execution_count": 110,
   "metadata": {},
   "outputs": [
    {
     "name": "stdout",
     "output_type": "stream",
     "text": [
      "Current datetime: {} 2019-09-16 15:20:57.174456\n",
      "Datetime in 5 miniutes: 2019-09-16 15:25:57.174456\n"
     ]
    }
   ],
   "source": [
    "now = datetime.now()\n",
    "\n",
    "print(\"Current datetime: {}\", now)\n",
    "print(\"Datetime in 5 miniutes: {}\".format(now + timedelta(minutes=5)))"
   ]
  },
  {
   "cell_type": "markdown",
   "metadata": {},
   "source": [
    "You can find more detailed information and examples from [here](https://docs.python.org/3/library/datetime.html#timedelta-objects). Feel free to suggest and use your own solution if you think there's a better way to handle the missing year information."
   ]
  },
  {
   "cell_type": "markdown",
   "metadata": {},
   "source": [
    "### Q2. Using the retrieved data (i.e., mydata variable), write the python codes that answer the following questions.\n",
    "1. (5 pts) Which date did record the highest temperature? (Hint: see the member functions of `Pandas.Series` [here](https://pandas.pydata.org/pandas-docs/stable/reference/api/pandas.Series.html).)"
   ]
  },
  {
   "cell_type": "code",
   "execution_count": 111,
   "metadata": {},
   "outputs": [
    {
     "name": "stdout",
     "output_type": "stream",
     "text": [
      "2019-08-13 00:00:00\n"
     ]
    }
   ],
   "source": [
    "#------------------------------#\n",
    "#   Write your answer here     #\n",
    "#------------------------------#\n",
    "mydata1 = mydata[\"Max_Temp\"]\n",
    "num = mydata1.max()\n",
    "int_index = mydata1[mydata1 == num].index[0]\n",
    "final_date = mydata['Date'].iloc[[int_index]]\n",
    "\n",
    "print(final_date.iloc[0])"
   ]
  },
  {
   "cell_type": "markdown",
   "metadata": {},
   "source": [
    "2. (10 pts) Add a new categorical column *\"Intensity\"* which defines categories of rainfall according to the precipitation.\n",
    "    - light: Rain < 0.098\n",
    "    - moderate: 0.098 <= Rain < 0.3\n",
    "    - heavy: 0.3 <= Rain < 2.0\n",
    "    - violent: Rain >= 2.0"
   ]
  },
  {
   "cell_type": "code",
   "execution_count": 112,
   "metadata": {},
   "outputs": [
    {
     "name": "stdout",
     "output_type": "stream",
     "text": [
      "        Date  Max_Temp  Min_temp  Rain intensity\n",
      "0 2018-08-01      78.9      69.2  1.33     heavy\n",
      "1 2018-08-02      73.6      69.9  0.86     heavy\n",
      "2 2018-08-03      85.7      70.3  0.81     heavy\n",
      "3 2018-08-04      88.6      69.1  0.00     light\n",
      "4 2018-08-05      91.6      70.7  0.33     heavy\n"
     ]
    }
   ],
   "source": [
    "header_list = ['Date', 'Max_Temp','Min_temp','Rain', 'intensity']\n",
    "mydata = mydata.reindex(columns = header_list)\n",
    "rain_list = mydata['Rain']\n",
    "df = mydata\n",
    "df.loc[df['Rain'] < 0.098, 'intensity'] = 'light'\n",
    "df.loc[(df['Rain'] >= 0.098) & (df['Rain'] < .3), 'intensity'] = 'moderate'\n",
    "df.loc[(df['Rain'] >= 0.3) & (df['Rain'] < 2.0), 'intensity'] = 'heavy'\n",
    "df.loc[df['Rain'] >= 2.0, 'intensity'] = 'violent'\n",
    "my_data = df\n",
    "print(df.head())\n",
    "\n",
    "        "
   ]
  },
  {
   "cell_type": "markdown",
   "metadata": {},
   "source": [
    "3. (5 pts) For each rainfall category, counts the days. In other words, how many days of 'light'/'moderate'/'heavy'/'violent' rainfall did WATUGA have?"
   ]
  },
  {
   "cell_type": "code",
   "execution_count": 113,
   "metadata": {},
   "outputs": [
    {
     "name": "stdout",
     "output_type": "stream",
     "text": [
      "light       303\n",
      "heavy        55\n",
      "moderate     35\n",
      "violent       3\n",
      "Name: intensity, dtype: int64\n"
     ]
    }
   ],
   "source": [
    "#------------------------------#\n",
    "#   Write your answer here     #\n",
    "#------------------------------#\n",
    "\n",
    "print(df[\"intensity\"].value_counts())\n"
   ]
  },
  {
   "cell_type": "markdown",
   "metadata": {},
   "source": [
    "4. (10 pts) Can we say on average we have more rain during the summer? Answer this question by reporting monthly average precipitation from Aug., 2018 to Jul., 2019. The answer should be **sorted** in descending order of average precipitation.\n",
    "    - Hint 1: use a `datetime.datetime` object for filtering\n",
    "    - Hint 2: to access datetime object in 'Date' series, you can use `Series.dt` (read its documentation [page](https://pandas.pydata.org/pandas-docs/stable/reference/series.html#datetimelike-properties))    \n",
    "    - Note that there are multiple ways to implment this; the above is just one of them."
   ]
  },
  {
   "cell_type": "code",
   "execution_count": 116,
   "metadata": {},
   "outputs": [
    {
     "name": "stdout",
     "output_type": "stream",
     "text": [
      "0\n",
      "December     0.329032\n",
      "June         0.233000\n",
      "November     0.195333\n",
      "January      0.194194\n",
      "October      0.165484\n",
      "Feburary     0.141786\n",
      "August       0.135161\n",
      "April        0.127333\n",
      "May          0.102258\n",
      "March        0.080323\n",
      "July         0.056129\n",
      "September    0.054000\n",
      "Name: Rain, dtype: float64\n"
     ]
    },
    {
     "name": "stderr",
     "output_type": "stream",
     "text": [
      "C:\\Anaconda3\\lib\\site-packages\\ipykernel_launcher.py:15: SettingWithCopyWarning: \n",
      "A value is trying to be set on a copy of a slice from a DataFrame.\n",
      "Try using .loc[row_indexer,col_indexer] = value instead\n",
      "\n",
      "See the caveats in the documentation: http://pandas.pydata.org/pandas-docs/stable/indexing.html#indexing-view-versus-copy\n",
      "  from ipykernel import kernelapp as app\n"
     ]
    }
   ],
   "source": [
    "#------------------------------#\n",
    "#   Write your answer here     #\n",
    "#------------------------------#\n",
    "\n",
    "\n",
    "month_lst = ['Date','January', 'Feburary', 'March', 'April', 'May', 'June', 'July', \n",
    "              'August', 'September', 'October', 'November', 'December']\n",
    "months = pd.Series(month_lst)\n",
    "df = mydata\n",
    "start_date = '2018-08-01'\n",
    "end_date = '2019-08-01'\n",
    "mask = (df['Date'] >= start_date) & (df['Date'] < end_date)\n",
    "df1= df.loc[mask] \n",
    "df = df.loc[mask]\n",
    "df[\"Date\"] = pd.to_datetime(df.Date, format='%B').dt.month\n",
    "df = df.groupby(\"Date\")[\"Rain\"].mean()\n",
    "df = pd.concat([months,df],axis =1)\n",
    "df =df.drop(0)\n",
    "df = df.set_index(0)\n",
    "df = df[\"Rain\"]\n",
    "print(df.sort_values(ascending = False))"
   ]
  },
  {
   "cell_type": "markdown",
   "metadata": {},
   "source": [
    "5. (10 pts) For each month in [Aug. 2018 - Jul. 2019], counts the number of rainy days. \n",
    "    - A day is considered as a rainy day if 'Intensity' > light."
   ]
  },
  {
   "cell_type": "code",
   "execution_count": 129,
   "metadata": {},
   "outputs": [
    {
     "name": "stdout",
     "output_type": "stream",
     "text": [
      "0\n",
      "January       8\n",
      "Feburary     10\n",
      "March         5\n",
      "April         6\n",
      "May           4\n",
      "June          7\n",
      "July          7\n",
      "August        6\n",
      "September     4\n",
      "October       5\n",
      "November     11\n",
      "December     11\n",
      "Name: intensity, dtype: int32\n"
     ]
    }
   ],
   "source": [
    "#------------------------------#\n",
    "#   Write your answer here     #\n",
    "#------------------------------#\n",
    "df = mydata\n",
    "start_date = '2018-08-01'\n",
    "end_date = '2019-08-01'\n",
    "mask = (df['Date'] >= start_date) & (df['Date'] < end_date)\n",
    "df= df.loc[mask]\n",
    "df.loc[(df['Rain'] >= 0.098), 'intensity'] = 'yes'\n",
    "mask = (df['intensity'] == 'yes')\n",
    "df= df.loc[mask]\n",
    "df[\"Date\"] = pd.to_datetime(df.Date, format='%B').dt.month\n",
    "df = df.groupby(\"Date\")[\"intensity\"].count()\n",
    "df = pd.concat([months,df],axis =1)\n",
    "df =df.drop(0)\n",
    "df = df.set_index(0)\n",
    "df = df[\"intensity\"]\n",
    "print(df.astype('int'))\n"
   ]
  },
  {
   "cell_type": "markdown",
   "metadata": {},
   "source": [
    "### Q3. Draw a line plot showing the trend of max August temperatures. It should contain two lines, one for MaxTemp for Aug. 2018 and the other for MaxTemp for Aug. 2019.\n",
    "1. (10 pts) First, select rows corresponding to Aug. 2018 and Aug. 2019 and store them into two different variables. Then construct a new `DataFrame` object by concatenating series. Your new `DataFrame` needs to contain 3 fields:\n",
    "    - Day,\n",
    "    - MaxTemp2018,\n",
    "    - MaxTemp2019.\n",
    "For this, you will need to use the following two functions:\n",
    "    - [`Series.rename()`](https://pandas.pydata.org/pandas-docs/stable/reference/api/pandas.Series.rename.html) to change the name of a series and\n",
    "    - [`Pandas.concat()`](https://pandas.pydata.org/pandas-docs/stable/reference/api/pandas.concat.html) to construct a new `DataFrame` by concatenating existing series. Notice that you need to concatenate the series horizontally. Carefully read the documentation to see which parameter you need to change."
   ]
  },
  {
   "cell_type": "code",
   "execution_count": 46,
   "metadata": {},
   "outputs": [
    {
     "name": "stdout",
     "output_type": "stream",
     "text": [
      "The new dataframe object contains 31 rows and 3 columns.\n",
      "\n",
      "\n",
      "<class 'pandas.core.frame.DataFrame'>\n",
      "Int64Index: 31 entries, 0 to 30\n",
      "Data columns (total 3 columns):\n",
      "Day            31 non-null int64\n",
      "MaxTemp2018    31 non-null float64\n",
      "MaxTemp2019    31 non-null float64\n",
      "dtypes: float64(2), int64(1)\n",
      "memory usage: 992.0 bytes\n",
      "None\n"
     ]
    },
    {
     "name": "stderr",
     "output_type": "stream",
     "text": [
      "C:\\Anaconda3\\lib\\site-packages\\ipykernel_launcher.py:16: SettingWithCopyWarning: \n",
      "A value is trying to be set on a copy of a slice from a DataFrame.\n",
      "Try using .loc[row_indexer,col_indexer] = value instead\n",
      "\n",
      "See the caveats in the documentation: http://pandas.pydata.org/pandas-docs/stable/indexing.html#indexing-view-versus-copy\n",
      "  app.launch_new_instance()\n",
      "C:\\Anaconda3\\lib\\site-packages\\ipykernel_launcher.py:17: SettingWithCopyWarning: \n",
      "A value is trying to be set on a copy of a slice from a DataFrame.\n",
      "Try using .loc[row_indexer,col_indexer] = value instead\n",
      "\n",
      "See the caveats in the documentation: http://pandas.pydata.org/pandas-docs/stable/indexing.html#indexing-view-versus-copy\n"
     ]
    }
   ],
   "source": [
    "import matplotlib.pyplot as plt\n",
    "\n",
    "# use these variables if needed\n",
    "aug2018 = datetime(2018, 8, 1)\n",
    "sep2018 = datetime(2018, 9, 1)\n",
    "aug2019 = datetime(2019, 8, 1)\n",
    "sep2019 = datetime(2019, 9, 1)\n",
    "df = mydata\n",
    "df1 = mydata\n",
    "\n",
    "mask = (df['Date'] >= aug2018) & (df['Date'] < sep2018)\n",
    "mask1 = (df['Date'] >= aug2019) & (df['Date'] < sep2019)\n",
    "\n",
    "df = df.loc[mask]\n",
    "df1 = df1.loc[mask1]\n",
    "df[\"Date\"] = pd.to_datetime(df.Date, format='%d').dt.day\n",
    "df1[\"Date\"] = pd.to_datetime(df.Date, format='%d').dt.day\n",
    "\n",
    "max_2018 = df[\"Max_Temp\"]\n",
    "max_2019 = df1[\"Max_Temp\"]\n",
    "day = df[\"Date\"]\n",
    "\n",
    "max_2019 = max_2019.rename(\"MaxTemp2019\")\n",
    "max_2018 =max_2018.rename(\"MaxTemp2018\")\n",
    "day = day.rename(\"Day\")\n",
    "max_2019 = max_2019.reset_index() \n",
    "max_2019 = max_2019[\"MaxTemp2019\"]\n",
    "df = pd.concat([day,max_2018,max_2019],axis =1)\n",
    "\n",
    "######################################\n",
    "#   Your code for the plot goes here #\n",
    "######################################\n",
    "\n",
    "\n",
    "\n",
    "\n",
    "               \n",
    "# test code (do not modify)\n",
    "print(\"The new dataframe object contains {} rows and {} columns.\\n\\n\".format(*df.shape))\n",
    "print(df.info())"
   ]
  },
  {
   "cell_type": "markdown",
   "metadata": {},
   "source": [
    "2. (5 pts) Draw a line plot that comparaes August temperateures for 2018 and 2019."
   ]
  },
  {
   "cell_type": "code",
   "execution_count": 48,
   "metadata": {},
   "outputs": [
    {
     "data": {
      "text/plain": [
       "[<matplotlib.lines.Line2D at 0x157be22e5f8>]"
      ]
     },
     "execution_count": 48,
     "metadata": {},
     "output_type": "execute_result"
    },
    {
     "data": {
      "image/png": "[encoded data removed]",
      "text/plain": [
       "<Figure size 432x288 with 1 Axes>"
      ]
     },
     "metadata": {
      "needs_background": "light"
     },
     "output_type": "display_data"
    }
   ],
   "source": [
    "######################################\n",
    "#   Your code for the plot goes here #\n",
    "######################################\n",
    "plt.plot('Day', 'MaxTemp2018', data = df)\n",
    "plt.plot('Day', 'MaxTemp2019', data = df)"
   ]
  },
  {
   "cell_type": "markdown",
   "metadata": {},
   "source": [
    "### Q4. (15 pts) In this question, we will collect the temperature data for 2016, 2017, and 2018, and then aggregate them to compute the mean and standard deviation of monthly temperature. \n",
    "- The temperature for a day is given by taking the average of min and max temperatures for that day, i.e., $\\text{Temp} = \\frac{\\text{MinTemp} + \\text{MaxTemp}}{2}$.\n",
    "- To collect the data for 3 years, use the `get_temperature()` function you implemented in Q1.\n",
    "- To concatenate them into a single DataFrame, use `pandas.concat()` function.\n",
    "- Fix `site=WATUGA`"
   ]
  },
  {
   "cell_type": "code",
   "execution_count": 13,
   "metadata": {},
   "outputs": [
    {
     "ename": "NameError",
     "evalue": "name 'ret' is not defined",
     "output_type": "error",
     "traceback": [
      "\u001b[1;31m---------------------------------------------------------------------------\u001b[0m",
      "\u001b[1;31mNameError\u001b[0m                                 Traceback (most recent call last)",
      "\u001b[1;32m<ipython-input-13-866e48ff08ea>\u001b[0m in \u001b[0;36m<module>\u001b[1;34m\u001b[0m\n\u001b[0;32m     15\u001b[0m \u001b[1;33m\u001b[0m\u001b[0m\n\u001b[0;32m     16\u001b[0m \u001b[1;31m# 3. form a DataFrame by concatenating the mean and stdev.\u001b[0m\u001b[1;33m\u001b[0m\u001b[1;33m\u001b[0m\u001b[1;33m\u001b[0m\u001b[0m\n\u001b[1;32m---> 17\u001b[1;33m \u001b[0mprint\u001b[0m\u001b[1;33m(\u001b[0m\u001b[0mret\u001b[0m\u001b[1;33m)\u001b[0m\u001b[1;33m\u001b[0m\u001b[1;33m\u001b[0m\u001b[0m\n\u001b[0m",
      "\u001b[1;31mNameError\u001b[0m: name 'ret' is not defined"
     ]
    }
   ],
   "source": [
    "#------------------------------#\n",
    "#   Write your answer here     #\n",
    "#------------------------------#\n",
    "dfs = []\n",
    "\n",
    "for fromYear in [2016, 2017, 2018]:\n",
    "    dfs.append(get_temperature('January', 1, fromYear, 'December', 31, fromYear, 'WATUGA'))\n",
    "\n",
    "# 1. merge 3 DataFrames into one\n",
    "\n",
    "\n",
    "# 2. aggregate by month name and compute the mean and stdev.\n",
    "\n",
    "\n",
    "\n",
    "# 3. form a DataFrame by concatenating the mean and stdev.\n",
    "print(ret)"
   ]
  },
  {
   "cell_type": "code",
   "execution_count": null,
   "metadata": {},
   "outputs": [],
   "source": []
  },
  {
   "cell_type": "code",
   "execution_count": null,
   "metadata": {},
   "outputs": [],
   "source": []
  },
  {
   "cell_type": "code",
   "execution_count": null,
   "metadata": {},
   "outputs": [],
   "source": []
  },
  {
   "cell_type": "code",
   "execution_count": null,
   "metadata": {},
   "outputs": [],
   "source": []
  },
  {
   "cell_type": "code",
   "execution_count": null,
   "metadata": {},
   "outputs": [],
   "source": []
  },
  {
   "cell_type": "code",
   "execution_count": null,
   "metadata": {},
   "outputs": [],
   "source": []
  },
  {
   "cell_type": "code",
   "execution_count": null,
   "metadata": {},
   "outputs": [],
   "source": []
  },
  {
   "cell_type": "code",
   "execution_count": null,
   "metadata": {},
   "outputs": [],
   "source": []
  },
  {
   "cell_type": "code",
   "execution_count": null,
   "metadata": {},
   "outputs": [],
   "source": []
  },
  {
   "cell_type": "code",
   "execution_count": null,
   "metadata": {},
   "outputs": [],
   "source": []
  },
  {
   "cell_type": "code",
   "execution_count": null,
   "metadata": {},
   "outputs": [],
   "source": []
  },
  {
   "cell_type": "code",
   "execution_count": null,
   "metadata": {},
   "outputs": [],
   "source": []
  },
  {
   "cell_type": "code",
   "execution_count": null,
   "metadata": {},
   "outputs": [],
   "source": []
  },
  {
   "cell_type": "code",
   "execution_count": null,
   "metadata": {},
   "outputs": [],
   "source": []
  },
  {
   "cell_type": "code",
   "execution_count": null,
   "metadata": {},
   "outputs": [],
   "source": []
  },
  {
   "cell_type": "code",
   "execution_count": null,
   "metadata": {},
   "outputs": [],
   "source": []
  }
 ],
 "metadata": {
  "anaconda-cloud": {},
  "kernelspec": {
   "display_name": "Python 3",
   "language": "python",
   "name": "python3"
  },
  "language_info": {
   "codemirror_mode": {
    "name": "ipython",
    "version": 3
   },
   "file_extension": ".py",
   "mimetype": "text/x-python",
   "name": "python",
   "nbconvert_exporter": "python",
   "pygments_lexer": "ipython3",
   "version": "3.7.3"
  }
 },
 "nbformat": 4,
 "nbformat_minor": 1
}

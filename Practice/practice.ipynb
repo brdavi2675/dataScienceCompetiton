{
 "cells": [
  {
   "cell_type": "code",
   "execution_count": 3,
   "metadata": {
    "collapsed": true
   },
   "outputs": [],
   "source": [
    "import pandas as pd\n",
    "import seaborne as sns \n",
    "\n",
    "train = pd.read_csv(\"Simulated_Data_Train.csv\")\n",
    "test = pd.read_csv(\"Simulated_Data_Test.csv\")"
   ]
  },
  {
   "cell_type": "code",
   "execution_count": 2,
   "outputs": [
    {
     "data": {
      "text/plain": "   tot_credit_debt  avg_card_debt  credit_age  credit_good_age  card_age  \\\n0         80826.71       15872.99       300.0            114.0     292.0   \n1         96052.60       12178.02       281.0            102.0     232.0   \n2         75212.76       12052.24       261.0            149.0     260.0   \n3         70727.84        8416.80       227.0             93.0     223.0   \n4         41604.47       10611.97       249.0            136.0     241.0   \n\n   non_mtg_acc_past_due_12_months_num  non_mtg_acc_past_due_6_months_num  \\\n0                                 0.0                                0.0   \n1                                 0.0                                0.0   \n2                                 0.0                                0.0   \n3                                 2.0                                1.0   \n4                                 0.0                                0.0   \n\n   mortgages_past_due_6_months_num  credit_past_due_amount  inq_12_month_num  \\\n0                              0.0                    0.00               3.0   \n1                              0.0                    0.00               2.0   \n2                              0.0                    0.00               1.0   \n3                              1.0                11013.96               0.0   \n4                              0.0                    0.00               0.0   \n\n   ...  card_open_36_month_num  auto_open_ 36_month_num  uti_card  \\\n0  ...                     0.0                      0.0  0.365902   \n1  ...                     1.0                      0.0  0.542786   \n2  ...                     0.0                      1.0  0.323678   \n3  ...                     1.0                      0.0  0.448721   \n4  ...                     0.0                      0.0  0.644030   \n\n   uti_50plus_pct  uti_max_credit_line  uti_card_50plus_pct  ind_acc_XYZ  \\\n0        0.475594             0.410504                  NaN          0.0   \n1        0.543158             0.535147             0.587351          0.0   \n2        0.321776             0.348713             0.413293          0.0   \n3        0.422809             0.491365             0.466810          0.0   \n4        0.619987             0.546655             0.588442          1.0   \n\n   rep_income  States Default_ind  \n0     69000.0      AL         0.0  \n1     61000.0      FL         0.0  \n2         NaN      AL         0.0  \n3     79000.0      SC         1.0  \n4         NaN      LA         0.0  \n\n[5 rows x 21 columns]",
      "text/html": "<div>\n<style scoped>\n    .dataframe tbody tr th:only-of-type {\n        vertical-align: middle;\n    }\n\n    .dataframe tbody tr th {\n        vertical-align: top;\n    }\n\n    .dataframe thead th {\n        text-align: right;\n    }\n</style>\n<table border=\"1\" class=\"dataframe\">\n  <thead>\n    <tr style=\"text-align: right;\">\n      <th></th>\n      <th>tot_credit_debt</th>\n      <th>avg_card_debt</th>\n      <th>credit_age</th>\n      <th>credit_good_age</th>\n      <th>card_age</th>\n      <th>non_mtg_acc_past_due_12_months_num</th>\n      <th>non_mtg_acc_past_due_6_months_num</th>\n      <th>mortgages_past_due_6_months_num</th>\n      <th>credit_past_due_amount</th>\n      <th>inq_12_month_num</th>\n      <th>...</th>\n      <th>card_open_36_month_num</th>\n      <th>auto_open_ 36_month_num</th>\n      <th>uti_card</th>\n      <th>uti_50plus_pct</th>\n      <th>uti_max_credit_line</th>\n      <th>uti_card_50plus_pct</th>\n      <th>ind_acc_XYZ</th>\n      <th>rep_income</th>\n      <th>States</th>\n      <th>Default_ind</th>\n    </tr>\n  </thead>\n  <tbody>\n    <tr>\n      <th>0</th>\n      <td>80826.71</td>\n      <td>15872.99</td>\n      <td>300.0</td>\n      <td>114.0</td>\n      <td>292.0</td>\n      <td>0.0</td>\n      <td>0.0</td>\n      <td>0.0</td>\n      <td>0.00</td>\n      <td>3.0</td>\n      <td>...</td>\n      <td>0.0</td>\n      <td>0.0</td>\n      <td>0.365902</td>\n      <td>0.475594</td>\n      <td>0.410504</td>\n      <td>NaN</td>\n      <td>0.0</td>\n      <td>69000.0</td>\n      <td>AL</td>\n      <td>0.0</td>\n    </tr>\n    <tr>\n      <th>1</th>\n      <td>96052.60</td>\n      <td>12178.02</td>\n      <td>281.0</td>\n      <td>102.0</td>\n      <td>232.0</td>\n      <td>0.0</td>\n      <td>0.0</td>\n      <td>0.0</td>\n      <td>0.00</td>\n      <td>2.0</td>\n      <td>...</td>\n      <td>1.0</td>\n      <td>0.0</td>\n      <td>0.542786</td>\n      <td>0.543158</td>\n      <td>0.535147</td>\n      <td>0.587351</td>\n      <td>0.0</td>\n      <td>61000.0</td>\n      <td>FL</td>\n      <td>0.0</td>\n    </tr>\n    <tr>\n      <th>2</th>\n      <td>75212.76</td>\n      <td>12052.24</td>\n      <td>261.0</td>\n      <td>149.0</td>\n      <td>260.0</td>\n      <td>0.0</td>\n      <td>0.0</td>\n      <td>0.0</td>\n      <td>0.00</td>\n      <td>1.0</td>\n      <td>...</td>\n      <td>0.0</td>\n      <td>1.0</td>\n      <td>0.323678</td>\n      <td>0.321776</td>\n      <td>0.348713</td>\n      <td>0.413293</td>\n      <td>0.0</td>\n      <td>NaN</td>\n      <td>AL</td>\n      <td>0.0</td>\n    </tr>\n    <tr>\n      <th>3</th>\n      <td>70727.84</td>\n      <td>8416.80</td>\n      <td>227.0</td>\n      <td>93.0</td>\n      <td>223.0</td>\n      <td>2.0</td>\n      <td>1.0</td>\n      <td>1.0</td>\n      <td>11013.96</td>\n      <td>0.0</td>\n      <td>...</td>\n      <td>1.0</td>\n      <td>0.0</td>\n      <td>0.448721</td>\n      <td>0.422809</td>\n      <td>0.491365</td>\n      <td>0.466810</td>\n      <td>0.0</td>\n      <td>79000.0</td>\n      <td>SC</td>\n      <td>1.0</td>\n    </tr>\n    <tr>\n      <th>4</th>\n      <td>41604.47</td>\n      <td>10611.97</td>\n      <td>249.0</td>\n      <td>136.0</td>\n      <td>241.0</td>\n      <td>0.0</td>\n      <td>0.0</td>\n      <td>0.0</td>\n      <td>0.00</td>\n      <td>0.0</td>\n      <td>...</td>\n      <td>0.0</td>\n      <td>0.0</td>\n      <td>0.644030</td>\n      <td>0.619987</td>\n      <td>0.546655</td>\n      <td>0.588442</td>\n      <td>1.0</td>\n      <td>NaN</td>\n      <td>LA</td>\n      <td>0.0</td>\n    </tr>\n  </tbody>\n</table>\n<p>5 rows × 21 columns</p>\n</div>"
     },
     "execution_count": 2,
     "metadata": {},
     "output_type": "execute_result"
    }
   ],
   "source": [],
   "metadata": {
    "collapsed": false,
    "pycharm": {
     "name": "#%%\n"
    }
   }
  }
 ],
 "metadata": {
  "kernelspec": {
   "display_name": "Python 3",
   "language": "python",
   "name": "python3"
  },
  "language_info": {
   "codemirror_mode": {
    "name": "ipython",
    "version": 2
   },
   "file_extension": ".py",
   "mimetype": "text/x-python",
   "name": "python",
   "nbconvert_exporter": "python",
   "pygments_lexer": "ipython2",
   "version": "2.7.6"
  }
 },
 "nbformat": 4,
 "nbformat_minor": 0
}